{
 "cells": [
  {
   "cell_type": "markdown",
   "metadata": {},
   "source": [
    "# PROYECTO N°1: TV, halftime shows, and the Big Game\n",
    "\n",
    "--- \n",
    "\n",
    "## 1.Planteamiento del proyecto e importación de la data\n",
    "\n",
    "<p>\n",
    "Tanto si te gusta el fútbol como si no, el Super Bowl es un espectáculo. Hay algo para todos en la fiesta del Super Bowl.\n",
    "Drama en forma de reventones, regresos y controversia para el fanático de los deportes. \n",
    "Hay anuncios ridículamente caros, algunos divertidísimos, otros desgarradores, provocadores y extraños. Los espectáculos de medio tiempo con los músicos más grandes del mundo, a veces <a href=\"https://youtu.be/ZD1QrIe--_Y?t=14\">montando tigres mecánicos gigantes</a> o <a href=\"https://youtu.be/mjrdywp5nyE?t=62\"> saliendo del techo del estadio</a>. Es un espectáculo, bebe. \n",
    "</p>\n",
    "<p>\n",
    "Y en este nootebook, vamos a descubrir cómo algunos de los elementos de este espectáculo interactúan entre sí. Después de explorar y limpiar nuestros datos un poco, vamos a responder a preguntas como:\n",
    "<ul>  \n",
    "    <li>¿Cuáles son los resultados más extremos del juego?</li>\n",
    "    <li>¿Cómo afecta el juego a los espectadores de la televisión?</li>\n",
    "    <li>¿Cómo han evolucionado los espectadores, los índices de audiencia y el coste de los anuncios a lo largo del tiempo?</li>\n",
    "    <li>¿Quiénes son los músicos más prolíficos en términos de espectáculos de medio tiempo?</li>\n",
    "</ul>\n",
    "</p>\n",
    "    \n",
    "<p>\n",
    "<img src=\"https://assets.datacamp.com/production/project_684/img/left_shark.jpg\" alt=\"Left Shark Steals The Show\" width=\"400\">  \n",
    "<em><a href=\"https://www.flickr.com/photos/huntleypaton/16464994135/in/photostream/\">El tiburón izquierdo roba el espectáculo</a>. Katy Perryactuando en halftime of Super Bowl XLIX. Foto de Huntley Paton. Attribution-ShareAlike 2.0 Generic (CC BY-SA 2.0).</em>\n",
    "</p>\n",
    "\n",
    "<p>\n",
    "El conjunto de datos que usaremos fue scrapeado y publicado por Wikipedia. Está compuesto por tres archivos CSV:\n",
    "<ul>\n",
    "<li>\n",
    "<a href=\"https://en.wikipedia.org/wiki/List_of_Super_Bowl_champions\"> Datos de los juegos</a>\n",
    "</li> \n",
    "<li>\n",
    "<a href=\"https://en.wikipedia.org/wiki/Super_Bowl_television_ratings\"> Datos de la TV</a>\n",
    "</li>\n",
    "<li>\n",
    "<a href=\"https://en.wikipedia.org/wiki/List_of_Super_Bowl_halftime_shows\"> Datos de los músicos del medio tiempo</a>\n",
    "</li>\n",
    "</ul>\n",
    "todos estos datos pertenecen a los 52 Super Bowls hasta el 2018. \n",
    "\n",
    "Echemos un vistazo, usando <code>display()</code> en lugar de <code>print()</code>ya que su salida es mucho más bonita en los Cuadernos de Jupyter.</p>"
   ]
  },
  {
   "cell_type": "code",
   "execution_count": null,
   "metadata": {},
   "outputs": [],
   "source": [
    "# Import pandas\n",
    "import ... as ...\n",
    "\n",
    "# Load the CSV data into DataFrames\n",
    "super_bowls = ...\n",
    "tv = ...\n",
    "halftime_musicians = ...\n",
    "\n",
    "# Display the first five rows of each DataFrame\n",
    "display(super_bowls.head())\n",
    "display(tv.head())\n",
    "display(halftime_musicians.head())"
   ]
  },
  {
   "cell_type": "markdown",
   "metadata": {},
   "source": [
    "## 2. Tomando nota de los problemas del dataset\n",
    "\n",
    "<p>Para los datos del juego de Super Bowl, podemos ver que el conjunto de datos aparece entero, excepto por los valores que faltan en las columnas de respaldo del mariscal de campo(<code>qb_winner_2</code> y <code>qb_loser_2</code>),lo cual tiene sentido dado que la mayoría de los mariscal de campo titulares de la Super Bowl (<code>qb_winner_1</code>  y <code>qb_loser_1</code>)juegan el juego entero.</p>\n",
    "\n",
    "<p>De la inspección visual de la televisión y los datos de los músicos del medio tiempo, solo se muestra un valor faltante, pero tengo la corazonada de que hay más. El Super Bowl se remonta a 1967, y las columnas más granulares (por ejemplo, la cantidad de canciones para los músicos del medio tiempo) probablemente no se rastrearon de manera confiable a lo largo del tiempo. Wikipedia es genial pero no perfecta.</p>\n",
    "\n",
    "<p>Una inspección de la salida<code>.info()</code> para <code>tv</code>  y <code>halftime_musicians</code> nos muestra que hay varias columnas con valores nulos.</p>\n"
   ]
  },
  {
   "cell_type": "code",
   "execution_count": null,
   "metadata": {},
   "outputs": [],
   "source": [
    "# Summary of the TV data to inspect\n",
    "tv.____()\n",
    "\n",
    "print('\\n')\n",
    "\n",
    "# Summary of the halftime musician data to inspect\n",
    "halftime_musicians.____()"
   ]
  },
  {
   "cell_type": "markdown",
   "metadata": {},
   "source": [
    "## 3.  Distribución de puntos combinados\n",
    "\n",
    "<p>Para los datos de TV, las siguientes columnas tienen valores perdidos:</p>\n",
    "\n",
    "<ul>\n",
    "<li>\n",
    "<code>total_us_viewers</code> (cantidad de espectadores de EE.UU. que vieron al menos alguna parte de la emisión)\n",
    "</li>\n",
    "<li>\n",
    "<code>rating_18_49</code> (% promedio de adultos estadounidenses de 18 a 49 años que viven en un hogar con un televisor que estaban viendo toda la transmisión)\n",
    "</li>\n",
    "<li><code>share_18_49</code> (% promedio de adultos estadounidenses de 18 a 49 años que viven en un hogar con un televisor en uso que estaban viendo toda la transmisión)</li>\n",
    "</ul>\n",
    "<p>Para los datos de los músicos de medio tiempo, faltan números de canciones interpretadas(<code>num_songs</code>)para alrededor de un tercio de las actuaciones.</p>\n",
    "\n",
    "<p>Hay muchas razones potenciales para estos valores perdidos. ¿Los datos fueron alguna vez rastreados? ¿Se perdieron en la historia? ¿Vale la pena el esfuerzo de investigación para hacer que estos datos valgan la pena? Tal vez. Ver cada espectáculo del medio tiempo del Súper Tazón para obtener el conteo de las canciones sería muy divertido. ¡Pero no tenemos tiempo para hacer ese tipo de cosas ahora! Tomemos nota de dónde el conjunto de datos no es perfecto y empecemos a descubrir algunas ideas.</p>\n",
    "\n",
    "<p>Empecemos por mirar los puntos combinados de cada Super Bowl visualizando la distribución. También señalemos los Super Bowls con las puntuaciones más altas y más bajas.</p>"
   ]
  },
  {
   "cell_type": "code",
   "execution_count": null,
   "metadata": {},
   "outputs": [],
   "source": [
    "# Import matplotlib and set plotting style\n",
    "from ... import ... as ...\n",
    "%matplotlib inline\n",
    "plt.style.use('seaborn')\n",
    "\n",
    "# Plot a histogram of combined points\n",
    "# ... YOUR CODE FOR TASK 3 ...\n",
    "plt.xlabel('Combined Points')\n",
    "plt.ylabel('Number of Super Bowls')\n",
    "plt.show()\n",
    "\n",
    "# Display the Super Bowls with the highest and lowest combined scores\n",
    "display(super_bowls[super_bowls['combined_pts'] > 70])\n",
    "display(super_bowls[... < ...])"
   ]
  },
  {
   "cell_type": "markdown",
   "metadata": {},
   "source": [
    "## 4. Distribución de diferencia de puntos\n",
    "\n",
    "<p>La mayoría de las puntuaciones combinadas oscilan entre 40 y 50 puntos, y los extremos están aproximadamente a la misma distancia en direcciones opuestas. Subiendo a los puntajes combinados más altos en 74 y 75, encontramos dos juegos con actuaciones dominantes de mariscales de campo. Uno incluso sucedió recientemente en el Super Bowl LII de 2018, donde los Patriots de Tom Brady perdieron ante los perdedores de Nick Foles, Eagles 41-33, para una puntuación combinada de 74.</p>\n",
    "\n",
    "<p>Bajando a los puntajes combinados más bajos, tenemos el Super Bowl III y VII, que contó con defensas duras que dominaron. También tenemos el Super Bowl IX en Nueva Orleans en 1975, cuya puntuación de 16-6 se puede atribuir a las inclemencias del tiempo. El campo estaba resbaladizo por la lluvia de la noche a la mañana y hacía un frío de 46 ° F (8 ° C), lo que dificultaba que los Steelers y Vikings hicieran mucho a la ofensiva. Este fue el segundo Super Bowl más frío de la historia y el último que se jugó en condiciones climáticas adversas durante más de 30 años. La NFL se dio cuenta de que a la gente le gustan los puntos, supongo</p>\n",
    "\n",
    "<p><em>ACTUALIZACIÓN: En el Super Bowl LIII en 2019, los Patriots y los Rams rompieron el récord del Super Bowl con la puntuación más baja con una puntuación combinada de 16 puntos (13-3 para los Patriots).</em></p>\n",
    "<p>Echemos un vistazo a la <em>diferencia de puntos</em> ahora</p>"
   ]
  },
  {
   "cell_type": "code",
   "execution_count": null,
   "metadata": {},
   "outputs": [],
   "source": [
    "# Plot a histogram of point differences\n",
    "plt.hist(super_bowls.difference_pts)\n",
    "plt.xlabel('Point Difference')\n",
    "# ... YOUR CODE FOR TASK 4 ...\n",
    "# ... YOUR CODE FOR TASK 4 ...\n",
    "\n",
    "# Display the closest game(s) and biggest blowouts\n",
    "display(...)\n",
    "display(...)"
   ]
  },
  {
   "cell_type": "markdown",
   "metadata": {},
   "source": [
    "## 5. ¿Las explosiones se traducen en pérdida de espectadores?\n",
    "\n",
    "<p>\n",
    "La gran mayoría de los Super Bowls son juegos cerrados. Tiene sentido. Es probable que ambos equipos se lo merezcan si han llegado tan lejos. El partido más reñido de la historia fue cuando los Buffalo Bills perdieron ante los New York Giants por 1 punto en 1991, que fue mejor recordado por el intento de gol de campo fallido de Scott Norwood en el último segundo que se fue <em><a href=\"https://www.youtube.com/watch?v=RPFZCGgjDSg\">desviado a la derecha</a></em>, dando inicio a cuatro derrotas seguidas de los Bills en el Super Bowl. . Pobre Scott. La mayor discrepancia de puntos fue de 45 puntos (!) Donde el miembro del Salón de la Fama Joe Montana llevó a los 49ers de San Francisco a la victoria en 1990, un año antes del juego más cerrado de la historia.   \n",
    "    \n",
    "<p>Recuerdo ver a los Seahawks aplastar a los Broncos por 35 puntos (43-8) en 2014, lo que en mi opinión fue una experiencia aburrida. El juego nunca estuvo realmente cerrado. Estoy bastante seguro de que cambiamos de canal al final del tercer trimestre. Combinemos los datos de nuestro juego y la televisión para ver si se trata de un fenómeno universal. ¿Las grandes diferencias de puntos se traducen en espectadores perdidos? Podemos graficar <a href=\"https://en.wikipedia.org/wiki/Nielsen_ratings\">la participación de los hogares</a> <em>(porcentaje promedio de hogares de EE. UU. Con un televisor en uso que estuvieron viendo la transmisión completa)</em> vs. la diferencia de puntos para averiguarlo.</p>"
   ]
  },
  {
   "cell_type": "code",
   "execution_count": null,
   "metadata": {},
   "outputs": [],
   "source": [
    "# Join game and TV data, filtering out SB I because it was split over two networks\n",
    "games_tv = pd.merge(tv[tv['super_bowl'] > 1], super_bowls, on='super_bowl')\n",
    "\n",
    "# Import seaborn\n",
    "# ... YOUR CODE FOR TASK 5 ...\n",
    "\n",
    "# Create a scatter plot with a linear regression model fit\n",
    "sns.regplot(x=..., y=..., data=games_tv)"
   ]
  },
  {
   "cell_type": "markdown",
   "metadata": {},
   "source": [
    "## 6. La audiencia y la industria de la publicidad a lo largo del tiempo\n",
    "\n",
    "<p>La línea de regresión con pendiente descendente y el intervalo de confianza del 95% para esa regresión <em>sugieren</em> que abandonar el juego si se trata de un reventón es común. Aunque coincide con nuestra intuición, debemos tomarlo con un grano de sal porque la relación lineal en los datos es débil debido a nuestro pequeño tamaño de muestra de 52 juegos.</p>\n",
    "\n",
    "<p>Sin embargo, independientemente del resultado, apuesto a que la mayoría de la gente se queda en el medio tiempo, lo que es una buena noticia para las cadenas de televisión y los anunciantes. Un anuncio de 30 segundos cuesta unos <a href=\"https://www.businessinsider.com/super-bowl-commercials-cost-more-than-eagles-quarterback-earns-2018-1\">5 millones de dólares</a> ahora, ¿pero siempre ha sido así? ¿Y cómo ha evolucionado el número de espectadores y los índices de audiencia junto con el coste de los anuncios? Podemos averiguarlo usando tramas de líneas que comparten un eje X de la \"Super Bowl\".</p>"
   ]
  },
  {
   "cell_type": "code",
   "execution_count": null,
   "metadata": {},
   "outputs": [],
   "source": [
    "# Create a figure with 3x1 subplot and activate the top subplot\n",
    "plt.subplot(3, 1, 1)\n",
    "plt.plot(..., ..., color=...)\n",
    "plt.title('Average Number of US Viewers')\n",
    "\n",
    "# Activate the middle subplot\n",
    "plt.subplot(3, 1, 2)\n",
    "plt.plot(..., ..., ...)\n",
    "plt.title('Household Rating')\n",
    "\n",
    "# Activate the bottom subplot\n",
    "plt.subplot(3, 1, 3)\n",
    "# ... YOUR CODE FOR TASK 6 ...\n",
    "plt.title('Ad Cost')\n",
    "plt.xlabel('SUPER BOWL')\n",
    "\n",
    "# Improve the spacing between subplots\n",
    "plt.tight_layout()"
   ]
  },
  {
   "cell_type": "markdown",
   "metadata": {},
   "source": [
    "## 7. Los espectáculos de medio tiempo no siempre fueron tan buenos\n",
    "\n",
    "<p>Podemos ver que los espectadores aumentaron antes de que los costos de los anuncios lo hicieran. ¿Quizás las cadenas no tenían mucha información y eran lentas para reaccionar? Tiene sentido, ya que el DataCamp no existía en aquel entonces.</p>\n",
    "\n",
    "<p>Otra hipótesis: ¿quizás los programas de medio tiempo no eran tan buenos en los primeros años? El espectáculo moderno del Super Bowl tiene mucho que ver con el prestigio cultural de los grandes actos de medio tiempo. Bajé a una madriguera de conejo de YouTube y resulta que los antiguos no estaban a la altura de los estándares de hoy en día. Algunos infractores:</p>\n",
    "\n",
    "<ul>\n",
    "<li><a href=\"https://youtu.be/6wMXHxWO4ns?t=263\">Super Bowl XXVI</a> En 1992: Un rap de Frosty The Snowman realizado por niños.</li>\n",
    "<li><a href=\"https://www.youtube.com/watch?v=PKQTL1PYSag\">Super Bowl XXIII</a> En 1989: Un imitador de Elvis que hacía trucos de magia y ni siquiera cantaba una canción de Elvis.</li>\n",
    "<li><a href=\"https://youtu.be/oSXMNbK2e98?t=436\">Super Bowl XXI</a> En 1987: Ponis que bailan claqué. (Bueno, eso es bastante impresionante en realidad.)</li>\n",
    "</ul>\n",
    "\n",
    "<p>Resulta que la actuación de Michael Jackson en el Super Bowl XXVII, uno de los eventos más vistos en la historia de la televisión americana, fue cuando la NFL se dio cuenta del valor del tiempo de emisión del Super Bowl y decidió que necesitaban firmar actos de gran nombre a partir de entonces.Los shows de medio tiempo antes de MJ no fueron tan impresionantes, lo cual podemos ver filtrando nuestros datos de <code>halftime_musician</code>."
   ]
  },
  {
   "cell_type": "code",
   "execution_count": null,
   "metadata": {},
   "outputs": [],
   "source": [
    "# Display all halftime musicians for Super Bowls up to and including Super Bowl XXVII\n",
    "# ... YOUR CODE FOR TASK 7 ..."
   ]
  },
  {
   "cell_type": "markdown",
   "metadata": {},
   "source": [
    "## 8. ¿Quién tiene más apariciones en el medio tiempo?\n",
    "\n",
    "<p>Muchas bandas de música. El clarinetista de jazz americano Pete Fountain. Miss Texas 1973 tocando un violín. No hay nada en contra de esos artistas, simplemente no son <a href=\"https://www.youtube.com/watch?v=suIg9kTGBVI\">Beyoncé</a>. Para ser justos, nadie lo es.</p>\n",
    "\n",
    "<p>Veamos a todos los músicos que han hecho más de un espectáculo de medio tiempo, incluyendo sus rendimientos.</p>"
   ]
  },
  {
   "cell_type": "code",
   "execution_count": null,
   "metadata": {},
   "outputs": [],
   "source": [
    "# Count halftime show appearances for each musician and sort them from most to least\n",
    "halftime_appearances = halftime_musicians.groupby('musician').count()['super_bowl'].reset_index()\n",
    "halftime_appearances = halftime_appearances.sort_values('super_bowl', ascending=False)\n",
    "\n",
    "# Display musicians with more than one halftime show appearance\n",
    "# ... YOUR CODE FOR TASK 8 ..."
   ]
  },
  {
   "cell_type": "markdown",
   "metadata": {},
   "source": [
    "## 9. ¿Quién interpretó más canciones en un show de medio tiempo?\n",
    "\n",
    "<p>La mundialmente famosa <a href=\"https://www.youtube.com/watch?v=RL_3oqpHiDg\">Grambling State University Tiger Marching Band</a> toma la corona con seis apariciones. Beyoncé, Justin Timberlake, Nelly y Bruno Mars son los únicos músicos post-Y2K con múltiples apariciones (dos cada uno).\n",
    " \n",
    "<p>De nuestras inspecciones anteriores, la columna <code>num_songs</code> tiene muchos valores perdidos:</p>\n",
    "\n",
    "<ul>\n",
    "<li>Muchas de las bandas de música no tienen entradas de <code>num_songs</code>.</li>\n",
    "<li>Para las bandas que no marchan, los datos que faltan empiezan a aparecer en el Super Bowl XX.</li>\n",
    "</ul>\n",
    "\n",
    "<p>Filtremos las bandas que marchan filtrando los músicos con la palabra \"Marching\" en ellos y la palabra \"Spirit\" (una convención común para nombrar a las bandas que marchan es \"Spirit of [algo]\"). Luego filtraremos las Super Bowls después de la Super Bowl XX para resolver el problema de los datos que faltan, y luego veremos quién tiene más canciones.</p>"
   ]
  },
  {
   "cell_type": "code",
   "execution_count": null,
   "metadata": {},
   "outputs": [],
   "source": [
    "# Filter out most marching bands\n",
    "no_bands = halftime_musicians[~halftime_musicians.musician.str.contains('Marching')]\n",
    "no_bands = no_bands[~no_bands.musician.str.contains('Spirit')]\n",
    "\n",
    "# Plot a histogram of number of songs per performance\n",
    "most_songs = int(max(no_bands['num_songs'].values))\n",
    "plt.hist(no_bands.num_songs.dropna(), ...=...)\n",
    "# ... YOUR CODE FOR TASK 9 ...\n",
    "plt.ylabel('Number of Musicians')\n",
    "plt.show()\n",
    "\n",
    "# Sort the non-band musicians by number of songs per appearance...\n",
    "no_bands = no_bands.sort_values('num_songs', ascending=False)\n",
    "# ...and display the top 15\n",
    "display(no_bands.head(15))"
   ]
  },
  {
   "cell_type": "markdown",
   "metadata": {},
   "source": [
    "## 10. Conclusion\n",
    "\n",
    "<p>Así que la mayoría de los músicos no pertenecientes a la banda hacen de 1 a 3 canciones por medio tiempo. Es importante señalar que la duración del espectáculo del medio tiempo es fija (aproximadamente 12 minutos) por lo que las canciones por actuación es más una medida de cuántas canciones de éxito tienes. JT se fue en 2018, wow. ¡11 canciones! Diana Ross llega en segundo lugar con 10 en su medley en 1996.</p>\n",
    "\n",
    "<p>En este cuaderno, cargamos, limpiamos, y luego exploramos los datos de los partidos de la Super Bowl, la televisión y el espectáculo del medio tiempo. Visualizamos las distribuciones de los puntos combinados, las diferencias de puntos y las actuaciones en el descanso usando histogramas. Usamos gráficos lineales para ver cómo los aumentos de los costos de los anuncios se retrasan con respecto a los aumentos de la audiencia. Y descubrimos que las explosiones parecen conducir a un descenso de los espectadores.</p>\n",
    "\n",
    "<p>El Gran Juego de este año estará aquí antes de que te des cuenta. ¿Quién crees que ganará el Super Bowl LIII?</p>\n",
    "\n",
    "<p><em>ACTUALIZACIÓN: <a href=\"https://en.wikipedia.org/wiki/Super_Bowl_LIII\">Alerta de spoiler</a>.</em></p>"
   ]
  },
  {
   "cell_type": "code",
   "execution_count": null,
   "metadata": {},
   "outputs": [],
   "source": [
    "# 2018-2019 conference champions\n",
    "patriots = 'New England Patriots'\n",
    "rams = 'Los Angeles Rams'\n",
    "\n",
    "# Who will win Super Bowl LIII?\n",
    "super_bowl_LIII_winner = ...\n",
    "print('The winner of Super Bowl LIII will be the', super_bowl_LIII_winner)"
   ]
  },
  {
   "cell_type": "markdown",
   "metadata": {},
   "source": [
    "---\n",
    "\n",
    "### SUCCESSES DECEMBER 2020\n",
    "\n",
    "<p style=\"text-align:right;font-style: oblique\">- Work HARD, dream BIG - hmch 💀</p>"
   ]
  }
 ],
 "metadata": {
  "kernelspec": {
   "display_name": "Python 3",
   "language": "python",
   "name": "python3"
  },
  "language_info": {
   "codemirror_mode": {
    "name": "ipython",
    "version": 3
   },
   "file_extension": ".py",
   "mimetype": "text/x-python",
   "name": "python",
   "nbconvert_exporter": "python",
   "pygments_lexer": "ipython3",
   "version": "3.7.3"
  }
 },
 "nbformat": 4,
 "nbformat_minor": 2
}
